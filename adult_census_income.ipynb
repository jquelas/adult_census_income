{
 "cells": [
  {
   "cell_type": "markdown",
   "id": "68f02319",
   "metadata": {},
   "source": [
    "# Clasificación de Ingresos con Machine Learning para Análisis Socioeconómico\n",
    "\n",
    "En este proyecto se desarrolla un sistema de **clasificación de ingresos personales** basado en modelos de *machine learning*, cuyo objetivo es predecir si un individuo gana **más o menos de \\$50K anuales** utilizando datos demográficos y laborales extraídos del censo.\n",
    "\n",
    "El sistema está diseñado para analizar registros individuales y, mediante un algoritmo de **clasificación supervisada**, identificar patrones socioeconómicos relevantes que puedan ser útiles en estudios de mercado, políticas públicas, o decisiones comerciales.\n",
    "\n",
    "Adicionalmente, se contempla la posibilidad de extender el análisis para generar **visualizaciones interactivas** o aplicar técnicas de segmentación poblacional con fines estadísticos o estratégicos.\n",
    "\n",
    "## Objetivo\n",
    "\n",
    "- Desarrollar un modelo capaz de **predecir el nivel de ingresos** de una persona a partir de datos censales.\n",
    "- Aplicar técnicas de *preprocesamiento*, *entrenamiento* y *evaluación* de modelos de clasificación binaria.\n",
    "- Diseñar un pipeline reproducible que permita aplicar el modelo en nuevos conjuntos de datos.\n",
    "\n",
    "## Alcance del Proyecto\n",
    "\n",
    "- Exploración de datos (EDA) y visualización de variables clave.\n",
    "- Entrenamiento y validación de modelos de clasificación (por ejemplo: Regresión Logística, Árboles de Decisión, Random Forest).\n",
    "- Evaluación de métricas como *accuracy*, *precision*, *recall*, y *f1-score*.\n",
    "- Identificación de las variables más relevantes mediante técnicas de importancia de características.\n",
    "\n",
    "## Uso Comercial\n",
    "\n",
    "Este tipo de análisis tiene múltiples aplicaciones prácticas en sectores como:\n",
    "\n",
    "- **Banca y Finanzas**: Evaluación crediticia y segmentación de clientes.\n",
    "- **Marketing**: Diseño de campañas según el perfil socioeconómico.\n",
    "- **Gobierno y ONGs**: Políticas de inclusión y estudios poblacionales.\n",
    "\n",
    "## Dataset Utilizado: Adult Census Income\n",
    "\n",
    "Se utiliza el *dataset* **Adult Income (también conocido como Census Income)**, extraído del Censo de EE. UU. de 1994 y preparado por Ronny Kohavi y Barry Becker para tareas de minería de datos.\n",
    "\n",
    "Características principales del *dataset*:\n",
    "\n",
    "- **Número de instancias**: ~48,000 registros.\n",
    "- **Atributos**: 14 variables incluyendo edad, educación, ocupación, horas trabajadas por semana, entre otros.\n",
    "- **Variable objetivo**: `income`, que indica si el individuo gana `>50K` o `<=50K` al año.\n",
    "- **Tipo de datos**: Mixto (categóricos y numéricos).\n",
    "- **Fuente original**: Base de datos de la Oficina del Censo de los Estados Unidos.\n",
    "\n",
    "\n",
    "> **Nota sobre la limpieza del dataset**:\n",
    "> \n",
    "> Antes de incluir los registros en el conjunto de datos final, se aplicaron ciertos **filtros de limpieza** para asegurar que los datos sean relevantes y de calidad. Estos filtros fueron:\n",
    ">\n",
    "> - `AAGE > 16`: Se excluyen personas menores de 17 años, ya que generalmente no participan activamente en el mercado laboral.\n",
    "> - `AGI > 100`: Aunque `AGI` no figura directamente en la versión final, este filtro garantiza que se consideren solo registros con ingresos válidos y no triviales.\n",
    "> - `AFNLWGT > 1`: Se descartan registros con peso muestral casi nulo. El campo `fnlwgt` indica cuántas personas en la población representa ese registro. Si es muy bajo, el dato tiene poca relevancia estadística.\n",
    "> - `HRSWK > 0`: Se omiten personas que no trabajan nada en la semana, ya que no aportan información útil al análisis de ingresos.\n",
    ">\n",
    "> Estos filtros ayudan a mantener un conjunto de datos limpio, útil y representativo para entrenar modelos de clasificación.\n",
    "\n",
    "\n",
    "### Acceso al Dataset\n",
    "\n",
    "El *dataset* puede descargarse desde Kaggle:\n",
    "\n",
    "👉 [Adult Census Income Dataset en Kaggle](https://www.kaggle.com/datasets/uciml/adult-census-income)\n",
    "\n",
    "Esta versión puede contener columnas mejor etiquetadas y separadas para análisis más avanzados o uso con frameworks como **TensorFlow**, **PyTorch** o **XGBoost**.\n",
    "\n",
    "### Basado en investigaciones académicas\n",
    "\n",
    "Este proyecto toma como base el trabajo académico publicado por:\n",
    "\n",
    "> **Ron Kohavi**, “Scaling Up the Accuracy of Naive-Bayes Classifiers: a Decision-Tree Hybrid”, *KDD 1996*.\n",
    "\n",
    "Además, es ampliamente utilizado como benchmark en cursos, certificaciones y desafíos de ciencia de datos debido a su simplicidad y valor práctico.\n",
    "\n",
    "Para este trabajo se utilizará la versión en Kaggle, por su formato limpio y accesible."
   ]
  },
  {
   "cell_type": "markdown",
   "id": "d243d681",
   "metadata": {},
   "source": [
    "## EDA: Exploratory Data Analysis\n",
    "\n",
    "El primer paso en este proyecto es realizar un análisis exploratorio de datos (EDA) sobre el *dataset* **Adult Census Income**. Este proceso es clave para entender la naturaleza de los datos disponibles y preparar el terreno para la fase de modelado.\n",
    "\n",
    "A diferencia de otros *datasets* integrados en librerías como `scikit-learn`, el *Adult Income* proviene de fuentes externas (como Kaggle o UCI), y se presenta habitualmente en formato **CSV**. Por lo tanto, podemos utilizar directamente funciones como `head()`, `info()` y `describe()` de **pandas** para comenzar la exploración.\n",
    "\n",
    "> **Nota**: Antes de aplicar modelos de machine learning, es esencial entender la distribución de los datos, la presencia de valores nulos, y las relaciones entre las variables.\n",
    "\n",
    "### Descripción del Dataset\n",
    "\n",
    "El *dataset* Adult Income contiene información demográfica y laboral de individuos adultos residentes en EE.UU., recolectada por la Oficina del Censo. El objetivo es predecir si el ingreso anual de una persona supera los **\\$50,000**.\n",
    "\n",
    "Una vez cargado en un `DataFrame` de `pandas`, el conjunto de datos se verá de la siguiente manera:\n",
    "\n",
    "| Columna             | Tipo       | Descripción                                                             |\n",
    "|---------------------|------------|-------------------------------------------------------------------------|\n",
    "| `age`               | Numérica   | Edad del individuo.                                                    |\n",
    "| `workclass`         | Categórica | Tipo de empleo (privado, gobierno, autónomo, etc.).                    |\n",
    "| `fnlwgt`            | Numérica   | Peso muestral (indica cuántas personas representa esta muestra).       |\n",
    "| `education`         | Categórica | Nivel educativo (HS-grad, Bachelors, etc.).                            |\n",
    "| `education-num`     | Numérica   | Nivel educativo en formato numérico.                                   |\n",
    "| `marital-status`    | Categórica | Estado civil.                                                           |\n",
    "| `occupation`        | Categórica | Ocupación laboral.                                                     |\n",
    "| `relationship`      | Categórica | Relación familiar (esposo/a, hijo/a, etc.).                            |\n",
    "| `race`              | Categórica | Raza declarada.                                                        |\n",
    "| `sex`               | Categórica | Género (Male/Female).                                                  |\n",
    "| `capital-gain`      | Numérica   | Ganancias de capital obtenidas.                                        |\n",
    "| `capital-loss`      | Numérica   | Pérdidas de capital registradas.                                       |\n",
    "| `hours-per-week`    | Numérica   | Cantidad de horas trabajadas por semana.                               |\n",
    "| `native-country`    | Categórica | País de origen.                                                        |\n",
    "| `income`            | Categórica | Variable objetivo: `>50K` o `<=50K` (clase a predecir).                |\n",
    "\n",
    "> **Nota**: Algunas columnas como `education` y `education-num` son redundantes, pero pueden utilizarse para contrastar codificaciones.\n",
    "\n",
    "### Carga de Datos\n",
    "\n",
    "Los datos serán descargados directamente desde Kaggle mediante el siguiente código:"
   ]
  },
  {
   "cell_type": "code",
   "execution_count": 2,
   "id": "896189ee",
   "metadata": {},
   "outputs": [
    {
     "name": "stderr",
     "output_type": "stream",
     "text": [
      "d:\\seattle_pricing_model\\env\\Lib\\site-packages\\tqdm\\auto.py:21: TqdmWarning: IProgress not found. Please update jupyter and ipywidgets. See https://ipywidgets.readthedocs.io/en/stable/user_install.html\n",
      "  from .autonotebook import tqdm as notebook_tqdm\n"
     ]
    },
    {
     "name": "stdout",
     "output_type": "stream",
     "text": [
      "Warning: Looks like you're using an outdated `kagglehub` version (installed: 0.3.10), please consider upgrading to the latest version (0.3.12).\n",
      "Path to dataset files: C:\\Users\\George\\.cache\\kagglehub\\datasets\\uciml\\adult-census-income\\versions\\3\n",
      "\n",
      "Archivos en el path:\n",
      "adult.csv\n"
     ]
    }
   ],
   "source": [
    "# Se importa la librería 'kagglehub' para permitir la descarga de datasets desde Kaggle.\n",
    "import kagglehub  \n",
    "import os\n",
    "\n",
    "# Se descarga la última versión disponible del dataset \"adult-census-income\" desde el repositorio \"uciml\" en Kaggle.\n",
    "path = kagglehub.dataset_download(\"uciml/adult-census-income\")  \n",
    "\n",
    "# Se imprime la ruta local en la que se han almacenado los archivos descargados del dataset.\n",
    "print(\"Path to dataset files:\", path)\n",
    "\n",
    "# Mostrar todos los archivos descargados en el path del dataset\n",
    "print(\"\\nArchivos en el path:\")\n",
    "for file in os.listdir(path):\n",
    "    print(file)\n"
   ]
  },
  {
   "cell_type": "markdown",
   "id": "80ef2c3b",
   "metadata": {},
   "source": [
    "El siguiente paso será crear una función utilizando las librerías os y pandas con el fin de cargar los datos del dataset en formato CSV."
   ]
  },
  {
   "cell_type": "code",
   "execution_count": 6,
   "id": "ed2b48eb",
   "metadata": {},
   "outputs": [],
   "source": [
    "import pandas as pd\n",
    "\n",
    "# Se crea una función para guardar los datos del dataset en un objeto\n",
    "# de tipo dataframe\n",
    "def load_data(path, name):\n",
    "    csv_path = os.path.join(path, name)\n",
    "    return pd.read_csv(csv_path)"
   ]
  },
  {
   "cell_type": "markdown",
   "id": "ec91c33a",
   "metadata": {},
   "source": [
    "Con la función `load_data` se cargan los datos desde el dataset y se crea un objeto de tipo `dataframe` que será llamado `census`. Posteriormente se imprimiran las primeras lineas junto con los atributos del dataset utilizando el método ``head()``, esto permitirá verificar la estructura de los datos con los se va a trabajar."
   ]
  },
  {
   "cell_type": "code",
   "execution_count": 7,
   "id": "07d91cd3",
   "metadata": {},
   "outputs": [
    {
     "data": {
      "text/html": [
       "<div>\n",
       "<style scoped>\n",
       "    .dataframe tbody tr th:only-of-type {\n",
       "        vertical-align: middle;\n",
       "    }\n",
       "\n",
       "    .dataframe tbody tr th {\n",
       "        vertical-align: top;\n",
       "    }\n",
       "\n",
       "    .dataframe thead th {\n",
       "        text-align: right;\n",
       "    }\n",
       "</style>\n",
       "<table border=\"1\" class=\"dataframe\">\n",
       "  <thead>\n",
       "    <tr style=\"text-align: right;\">\n",
       "      <th></th>\n",
       "      <th>age</th>\n",
       "      <th>workclass</th>\n",
       "      <th>fnlwgt</th>\n",
       "      <th>education</th>\n",
       "      <th>education.num</th>\n",
       "      <th>marital.status</th>\n",
       "      <th>occupation</th>\n",
       "      <th>relationship</th>\n",
       "      <th>race</th>\n",
       "      <th>sex</th>\n",
       "      <th>capital.gain</th>\n",
       "      <th>capital.loss</th>\n",
       "      <th>hours.per.week</th>\n",
       "      <th>native.country</th>\n",
       "      <th>income</th>\n",
       "    </tr>\n",
       "  </thead>\n",
       "  <tbody>\n",
       "    <tr>\n",
       "      <th>0</th>\n",
       "      <td>90</td>\n",
       "      <td>?</td>\n",
       "      <td>77053</td>\n",
       "      <td>HS-grad</td>\n",
       "      <td>9</td>\n",
       "      <td>Widowed</td>\n",
       "      <td>?</td>\n",
       "      <td>Not-in-family</td>\n",
       "      <td>White</td>\n",
       "      <td>Female</td>\n",
       "      <td>0</td>\n",
       "      <td>4356</td>\n",
       "      <td>40</td>\n",
       "      <td>United-States</td>\n",
       "      <td>&lt;=50K</td>\n",
       "    </tr>\n",
       "    <tr>\n",
       "      <th>1</th>\n",
       "      <td>82</td>\n",
       "      <td>Private</td>\n",
       "      <td>132870</td>\n",
       "      <td>HS-grad</td>\n",
       "      <td>9</td>\n",
       "      <td>Widowed</td>\n",
       "      <td>Exec-managerial</td>\n",
       "      <td>Not-in-family</td>\n",
       "      <td>White</td>\n",
       "      <td>Female</td>\n",
       "      <td>0</td>\n",
       "      <td>4356</td>\n",
       "      <td>18</td>\n",
       "      <td>United-States</td>\n",
       "      <td>&lt;=50K</td>\n",
       "    </tr>\n",
       "    <tr>\n",
       "      <th>2</th>\n",
       "      <td>66</td>\n",
       "      <td>?</td>\n",
       "      <td>186061</td>\n",
       "      <td>Some-college</td>\n",
       "      <td>10</td>\n",
       "      <td>Widowed</td>\n",
       "      <td>?</td>\n",
       "      <td>Unmarried</td>\n",
       "      <td>Black</td>\n",
       "      <td>Female</td>\n",
       "      <td>0</td>\n",
       "      <td>4356</td>\n",
       "      <td>40</td>\n",
       "      <td>United-States</td>\n",
       "      <td>&lt;=50K</td>\n",
       "    </tr>\n",
       "    <tr>\n",
       "      <th>3</th>\n",
       "      <td>54</td>\n",
       "      <td>Private</td>\n",
       "      <td>140359</td>\n",
       "      <td>7th-8th</td>\n",
       "      <td>4</td>\n",
       "      <td>Divorced</td>\n",
       "      <td>Machine-op-inspct</td>\n",
       "      <td>Unmarried</td>\n",
       "      <td>White</td>\n",
       "      <td>Female</td>\n",
       "      <td>0</td>\n",
       "      <td>3900</td>\n",
       "      <td>40</td>\n",
       "      <td>United-States</td>\n",
       "      <td>&lt;=50K</td>\n",
       "    </tr>\n",
       "    <tr>\n",
       "      <th>4</th>\n",
       "      <td>41</td>\n",
       "      <td>Private</td>\n",
       "      <td>264663</td>\n",
       "      <td>Some-college</td>\n",
       "      <td>10</td>\n",
       "      <td>Separated</td>\n",
       "      <td>Prof-specialty</td>\n",
       "      <td>Own-child</td>\n",
       "      <td>White</td>\n",
       "      <td>Female</td>\n",
       "      <td>0</td>\n",
       "      <td>3900</td>\n",
       "      <td>40</td>\n",
       "      <td>United-States</td>\n",
       "      <td>&lt;=50K</td>\n",
       "    </tr>\n",
       "  </tbody>\n",
       "</table>\n",
       "</div>"
      ],
      "text/plain": [
       "   age workclass  fnlwgt     education  education.num marital.status  \\\n",
       "0   90         ?   77053       HS-grad              9        Widowed   \n",
       "1   82   Private  132870       HS-grad              9        Widowed   \n",
       "2   66         ?  186061  Some-college             10        Widowed   \n",
       "3   54   Private  140359       7th-8th              4       Divorced   \n",
       "4   41   Private  264663  Some-college             10      Separated   \n",
       "\n",
       "          occupation   relationship   race     sex  capital.gain  \\\n",
       "0                  ?  Not-in-family  White  Female             0   \n",
       "1    Exec-managerial  Not-in-family  White  Female             0   \n",
       "2                  ?      Unmarried  Black  Female             0   \n",
       "3  Machine-op-inspct      Unmarried  White  Female             0   \n",
       "4     Prof-specialty      Own-child  White  Female             0   \n",
       "\n",
       "   capital.loss  hours.per.week native.country income  \n",
       "0          4356              40  United-States  <=50K  \n",
       "1          4356              18  United-States  <=50K  \n",
       "2          4356              40  United-States  <=50K  \n",
       "3          3900              40  United-States  <=50K  \n",
       "4          3900              40  United-States  <=50K  "
      ]
     },
     "execution_count": 7,
     "metadata": {},
     "output_type": "execute_result"
    }
   ],
   "source": [
    "# Se carga el modelo y es guardado como un objeto dataframe\n",
    "census = load_data(path,\"adult.csv\")\n",
    "\n",
    "# Se muestran las primeras 5 lineas de dicho objeto\n",
    "census.head()"
   ]
  },
  {
   "cell_type": "markdown",
   "id": "266305a3",
   "metadata": {},
   "source": [
    "A simple vista se puede obervar que el dataset posee datos numérico y categóricos, tal como se describió al inicio de este documento. Además posee valores faltantes en varias de sus intancias.\n",
    "\n",
    "### Análisis Inicial\n",
    "\n",
    "Dentro de las opciones que ofrece la librería ``pandas``, se encuentra la posibilidad de obtener información sobre el objeto de tipo ``dataframe``, que acaba de ser creado, a través del método ``info()``."
   ]
  },
  {
   "cell_type": "code",
   "execution_count": 8,
   "id": "c6d711ac",
   "metadata": {},
   "outputs": [
    {
     "name": "stdout",
     "output_type": "stream",
     "text": [
      "<class 'pandas.core.frame.DataFrame'>\n",
      "RangeIndex: 32561 entries, 0 to 32560\n",
      "Data columns (total 15 columns):\n",
      " #   Column          Non-Null Count  Dtype \n",
      "---  ------          --------------  ----- \n",
      " 0   age             32561 non-null  int64 \n",
      " 1   workclass       32561 non-null  object\n",
      " 2   fnlwgt          32561 non-null  int64 \n",
      " 3   education       32561 non-null  object\n",
      " 4   education.num   32561 non-null  int64 \n",
      " 5   marital.status  32561 non-null  object\n",
      " 6   occupation      32561 non-null  object\n",
      " 7   relationship    32561 non-null  object\n",
      " 8   race            32561 non-null  object\n",
      " 9   sex             32561 non-null  object\n",
      " 10  capital.gain    32561 non-null  int64 \n",
      " 11  capital.loss    32561 non-null  int64 \n",
      " 12  hours.per.week  32561 non-null  int64 \n",
      " 13  native.country  32561 non-null  object\n",
      " 14  income          32561 non-null  object\n",
      "dtypes: int64(6), object(9)\n",
      "memory usage: 3.7+ MB\n"
     ]
    }
   ],
   "source": [
    "# Se muestra la información del objeto\n",
    "census.info()"
   ]
  },
  {
   "cell_type": "markdown",
   "id": "1b4f388f",
   "metadata": {},
   "source": [
    "El método ``info()`` permite determinar que el dataset posee 32,561 entradas y 15 atributos. De estos atributos, 6 son de tipo ``int64`` (enteros) y 9 son de tipo ``object`` (categóricos o texto). Si bien ``info()`` establece que no hay datos nulos, hemos visto celdas que poseen el valor *?* lo que implica que falta información en dicho atributo para esa instancia en particular.\n",
    "\n",
    "El siguiente paso será usar el método ``describe()`` para obtener información estadística de cada atributo numérico. Aquellos de tipo ``object`` no son tenidos en cuenta."
   ]
  },
  {
   "cell_type": "code",
   "execution_count": 9,
   "id": "927fc210",
   "metadata": {},
   "outputs": [
    {
     "data": {
      "text/html": [
       "<div>\n",
       "<style scoped>\n",
       "    .dataframe tbody tr th:only-of-type {\n",
       "        vertical-align: middle;\n",
       "    }\n",
       "\n",
       "    .dataframe tbody tr th {\n",
       "        vertical-align: top;\n",
       "    }\n",
       "\n",
       "    .dataframe thead th {\n",
       "        text-align: right;\n",
       "    }\n",
       "</style>\n",
       "<table border=\"1\" class=\"dataframe\">\n",
       "  <thead>\n",
       "    <tr style=\"text-align: right;\">\n",
       "      <th></th>\n",
       "      <th>age</th>\n",
       "      <th>fnlwgt</th>\n",
       "      <th>education.num</th>\n",
       "      <th>capital.gain</th>\n",
       "      <th>capital.loss</th>\n",
       "      <th>hours.per.week</th>\n",
       "    </tr>\n",
       "  </thead>\n",
       "  <tbody>\n",
       "    <tr>\n",
       "      <th>count</th>\n",
       "      <td>32561.000000</td>\n",
       "      <td>3.256100e+04</td>\n",
       "      <td>32561.000000</td>\n",
       "      <td>32561.000000</td>\n",
       "      <td>32561.000000</td>\n",
       "      <td>32561.000000</td>\n",
       "    </tr>\n",
       "    <tr>\n",
       "      <th>mean</th>\n",
       "      <td>38.581647</td>\n",
       "      <td>1.897784e+05</td>\n",
       "      <td>10.080679</td>\n",
       "      <td>1077.648844</td>\n",
       "      <td>87.303830</td>\n",
       "      <td>40.437456</td>\n",
       "    </tr>\n",
       "    <tr>\n",
       "      <th>std</th>\n",
       "      <td>13.640433</td>\n",
       "      <td>1.055500e+05</td>\n",
       "      <td>2.572720</td>\n",
       "      <td>7385.292085</td>\n",
       "      <td>402.960219</td>\n",
       "      <td>12.347429</td>\n",
       "    </tr>\n",
       "    <tr>\n",
       "      <th>min</th>\n",
       "      <td>17.000000</td>\n",
       "      <td>1.228500e+04</td>\n",
       "      <td>1.000000</td>\n",
       "      <td>0.000000</td>\n",
       "      <td>0.000000</td>\n",
       "      <td>1.000000</td>\n",
       "    </tr>\n",
       "    <tr>\n",
       "      <th>25%</th>\n",
       "      <td>28.000000</td>\n",
       "      <td>1.178270e+05</td>\n",
       "      <td>9.000000</td>\n",
       "      <td>0.000000</td>\n",
       "      <td>0.000000</td>\n",
       "      <td>40.000000</td>\n",
       "    </tr>\n",
       "    <tr>\n",
       "      <th>50%</th>\n",
       "      <td>37.000000</td>\n",
       "      <td>1.783560e+05</td>\n",
       "      <td>10.000000</td>\n",
       "      <td>0.000000</td>\n",
       "      <td>0.000000</td>\n",
       "      <td>40.000000</td>\n",
       "    </tr>\n",
       "    <tr>\n",
       "      <th>75%</th>\n",
       "      <td>48.000000</td>\n",
       "      <td>2.370510e+05</td>\n",
       "      <td>12.000000</td>\n",
       "      <td>0.000000</td>\n",
       "      <td>0.000000</td>\n",
       "      <td>45.000000</td>\n",
       "    </tr>\n",
       "    <tr>\n",
       "      <th>max</th>\n",
       "      <td>90.000000</td>\n",
       "      <td>1.484705e+06</td>\n",
       "      <td>16.000000</td>\n",
       "      <td>99999.000000</td>\n",
       "      <td>4356.000000</td>\n",
       "      <td>99.000000</td>\n",
       "    </tr>\n",
       "  </tbody>\n",
       "</table>\n",
       "</div>"
      ],
      "text/plain": [
       "                age        fnlwgt  education.num  capital.gain  capital.loss  \\\n",
       "count  32561.000000  3.256100e+04   32561.000000  32561.000000  32561.000000   \n",
       "mean      38.581647  1.897784e+05      10.080679   1077.648844     87.303830   \n",
       "std       13.640433  1.055500e+05       2.572720   7385.292085    402.960219   \n",
       "min       17.000000  1.228500e+04       1.000000      0.000000      0.000000   \n",
       "25%       28.000000  1.178270e+05       9.000000      0.000000      0.000000   \n",
       "50%       37.000000  1.783560e+05      10.000000      0.000000      0.000000   \n",
       "75%       48.000000  2.370510e+05      12.000000      0.000000      0.000000   \n",
       "max       90.000000  1.484705e+06      16.000000  99999.000000   4356.000000   \n",
       "\n",
       "       hours.per.week  \n",
       "count    32561.000000  \n",
       "mean        40.437456  \n",
       "std         12.347429  \n",
       "min          1.000000  \n",
       "25%         40.000000  \n",
       "50%         40.000000  \n",
       "75%         45.000000  \n",
       "max         99.000000  "
      ]
     },
     "execution_count": 9,
     "metadata": {},
     "output_type": "execute_result"
    }
   ],
   "source": [
    "# El siguiente paso es mostrar la descripción de estadística de\n",
    "# los atributos numéricos\n",
    "census.describe()"
   ]
  },
  {
   "cell_type": "markdown",
   "id": "dcc893a1",
   "metadata": {},
   "source": [
    "\n",
    "\n",
    "El atributo ``age`` representa la edad de los individuos registrados en el dataset. Se observa que la edad mínima es de 17 años y la máxima de 90, con una media de aproximadamente 38.6 años y una desviación estándar de 13.64. Esto indica que el rango de edades es amplio y está moderadamente disperso, siendo la mediana de 37 años. La distribución muestra que al menos el 75% de los individuos tienen una edad inferior a 48 años, lo cual sugiere que se trata principalmente de una población adulta en edad productiva.\n",
    "\n",
    "El campo ``fnlwgt``, correspondiente al peso final de la muestra, presenta una gran variabilidad, con valores que van desde 12,285 hasta 1,484,705. La media se encuentra alrededor de 189,778 y la desviación estándar es superior a 100,000, lo que indica la presencia de valores altamente dispersos. Dado que este atributo fue diseñado originalmente para ajustar la representatividad de la muestra en estudios censales, su escala no tiene una interpretación directa y puede influir de forma desproporcionada en algunos modelos si no se transforma o normaliza adecuadamente.\n",
    "\n",
    "Respecto al atributo ``education.num``, que representa un nivel educativo codificado numéricamente, se tiene una media de 10 y un máximo de 16. La mediana también es 10, lo cual indica que la mayoría de los individuos alcanzan un nivel educativo correspondiente a Some-college, es decir, algo de educación universitaria sin necesariamente haberla completado. La desviación estándar de 2.57 sugiere que los niveles educativos tienden a concentrarse en torno a ese valor promedio. Los percentiles muestran que el 75% de los individuos tienen un valor menor o igual a 12, lo cual se asocia con niveles educativos que van desde HS-grad (graduado de secundaria) hasta Assoc-acdm (título asociado académico), es decir, una educación secundaria o terciaria técnica completa.\n",
    "\n",
    "El atributo ``capital.gain`` presenta una media de 1,077 y una desviación estándar elevada, cercana a los 7,385. No obstante, tanto la mediana como los percentiles 25 y 75 son cero, lo que implica que la gran mayoría de las personas no reportan ganancias de capital. La existencia de un valor máximo de 99,999 indica que hay una pequeña proporción de casos con ganancias atípicamente altas, lo que introduce una fuerte asimetría positiva en la distribución.\n",
    "\n",
    "De forma similar, ``capital.loss`` tiene un comportamiento marcadamente sesgado. Con una media de 87.3 y una desviación estándar de más de 400, la mayoría de los registros tienen valores nulos en este campo, como lo evidencian sus percentiles más bajos. El valor máximo registrado es de 4,356, lo que también sugiere la presencia de unos pocos casos extremos que podrían afectar negativamente a modelos sensibles a valores atípicos.\n",
    "\n",
    "Finalmente, el campo ``hours.per.week``, que indica el número de horas trabajadas por semana, tiene una media de 40.4 horas y una mediana de 40, lo cual muestra una tendencia clara hacia jornadas laborales estándar. Sin embargo, el rango va desde 1 hasta 99 horas por semana, lo cual introduce cierta dispersión en los datos. La desviación estándar de 12.3 refuerza esta idea, aunque los percentiles indican que el 75% de los individuos trabajan 45 horas o menos, lo que sugiere una distribución relativamente concentrada alrededor de la media.\n",
    "\n",
    "El siguiente paso será determinar las categorías dentro de cada uno de los atributos categóricos."
   ]
  },
  {
   "cell_type": "code",
   "execution_count": 22,
   "id": "68b24ce5",
   "metadata": {},
   "outputs": [
    {
     "name": "stdout",
     "output_type": "stream",
     "text": [
      "Las categorías dentro del atributo workclass son:\n",
      " workclass\n",
      "Private             22696\n",
      "Self-emp-not-inc     2541\n",
      "Local-gov            2093\n",
      "?                    1836\n",
      "State-gov            1298\n",
      "Self-emp-inc         1116\n",
      "Federal-gov           960\n",
      "Without-pay            14\n",
      "Never-worked            7\n",
      "Name: count, dtype: int64\n"
     ]
    }
   ],
   "source": [
    "print(\"Las categorías dentro del atributo workclass son:\\n\", census[\"workclass\"].value_counts())"
   ]
  },
  {
   "cell_type": "markdown",
   "id": "2e0496ca",
   "metadata": {},
   "source": [
    "> **Nota**: Este atributo posee 1836 datos faltantes marcados como **?**."
   ]
  },
  {
   "cell_type": "code",
   "execution_count": 23,
   "id": "0336305b",
   "metadata": {},
   "outputs": [
    {
     "name": "stdout",
     "output_type": "stream",
     "text": [
      "Las categorías dentro del atributo education son:\n",
      " education\n",
      "HS-grad         10501\n",
      "Some-college     7291\n",
      "Bachelors        5355\n",
      "Masters          1723\n",
      "Assoc-voc        1382\n",
      "11th             1175\n",
      "Assoc-acdm       1067\n",
      "10th              933\n",
      "7th-8th           646\n",
      "Prof-school       576\n",
      "9th               514\n",
      "12th              433\n",
      "Doctorate         413\n",
      "5th-6th           333\n",
      "1st-4th           168\n",
      "Preschool          51\n",
      "Name: count, dtype: int64\n"
     ]
    }
   ],
   "source": [
    "print(\"Las categorías dentro del atributo education son:\\n\", census[\"education\"].value_counts())"
   ]
  },
  {
   "cell_type": "code",
   "execution_count": 20,
   "id": "fd86b33d",
   "metadata": {},
   "outputs": [
    {
     "name": "stdout",
     "output_type": "stream",
     "text": [
      "La relación entre cada categoría y su valor numérico es la siguiente:\n",
      " 1 → Preschool\n",
      " 2 → 1st-4th\n",
      " 3 → 5th-6th\n",
      " 4 → 7th-8th\n",
      " 5 → 9th\n",
      " 6 → 10th\n",
      " 7 → 11th\n",
      " 8 → 12th\n",
      " 9 → HS-grad\n",
      "10 → Some-college\n",
      "11 → Assoc-voc\n",
      "12 → Assoc-acdm\n",
      "13 → Bachelors\n",
      "14 → Masters\n",
      "15 → Prof-school\n",
      "16 → Doctorate\n"
     ]
    }
   ],
   "source": [
    "# Se eliminan duplicados para mostrar cada par único de (education, education.num)\n",
    "educacion_niveles = census[['education', 'education.num']].drop_duplicates().sort_values(by='education.num')\n",
    "\n",
    "# Se imprime la relación entre número y nivel educativo\n",
    "print(\"La relación entre cada categoría y su valor numérico es la siguiente:\")\n",
    "for _, fila in educacion_niveles.iterrows():\n",
    "    print(f\"{fila['education.num']:>2} → {fila['education']}\")"
   ]
  },
  {
   "cell_type": "code",
   "execution_count": 24,
   "id": "399ce1b5",
   "metadata": {},
   "outputs": [
    {
     "name": "stdout",
     "output_type": "stream",
     "text": [
      "Las categorías dentro del atributo marital.status son:\n",
      " marital.status\n",
      "Married-civ-spouse       14976\n",
      "Never-married            10683\n",
      "Divorced                  4443\n",
      "Separated                 1025\n",
      "Widowed                    993\n",
      "Married-spouse-absent      418\n",
      "Married-AF-spouse           23\n",
      "Name: count, dtype: int64\n"
     ]
    }
   ],
   "source": [
    "print(\"Las categorías dentro del atributo marital.status son:\\n\", census[\"marital.status\"].value_counts())"
   ]
  },
  {
   "cell_type": "code",
   "execution_count": 25,
   "id": "658b4e65",
   "metadata": {},
   "outputs": [
    {
     "name": "stdout",
     "output_type": "stream",
     "text": [
      "Las categorías dentro del atributo occupation son:\n",
      " occupation\n",
      "Prof-specialty       4140\n",
      "Craft-repair         4099\n",
      "Exec-managerial      4066\n",
      "Adm-clerical         3770\n",
      "Sales                3650\n",
      "Other-service        3295\n",
      "Machine-op-inspct    2002\n",
      "?                    1843\n",
      "Transport-moving     1597\n",
      "Handlers-cleaners    1370\n",
      "Farming-fishing       994\n",
      "Tech-support          928\n",
      "Protective-serv       649\n",
      "Priv-house-serv       149\n",
      "Armed-Forces            9\n",
      "Name: count, dtype: int64\n"
     ]
    }
   ],
   "source": [
    "print(\"Las categorías dentro del atributo occupation son:\\n\", census[\"occupation\"].value_counts())"
   ]
  },
  {
   "cell_type": "markdown",
   "id": "298e6f41",
   "metadata": {},
   "source": [
    "> **Nota**: Este atributo posee 1836 datos faltantes marcados como **?**."
   ]
  },
  {
   "cell_type": "code",
   "execution_count": 26,
   "id": "58cefe8c",
   "metadata": {},
   "outputs": [
    {
     "name": "stdout",
     "output_type": "stream",
     "text": [
      "Las categorías dentro del atributo relationchip son:\n",
      " relationship\n",
      "Husband           13193\n",
      "Not-in-family      8305\n",
      "Own-child          5068\n",
      "Unmarried          3446\n",
      "Wife               1568\n",
      "Other-relative      981\n",
      "Name: count, dtype: int64\n"
     ]
    }
   ],
   "source": [
    "print(\"Las categorías dentro del atributo relationchip son:\\n\", census[\"relationship\"].value_counts())"
   ]
  },
  {
   "cell_type": "code",
   "execution_count": 27,
   "id": "66438bee",
   "metadata": {},
   "outputs": [
    {
     "name": "stdout",
     "output_type": "stream",
     "text": [
      "Las categorías dentro del atributo race son:\n",
      " race\n",
      "White                 27816\n",
      "Black                  3124\n",
      "Asian-Pac-Islander     1039\n",
      "Amer-Indian-Eskimo      311\n",
      "Other                   271\n",
      "Name: count, dtype: int64\n"
     ]
    }
   ],
   "source": [
    "print(\"Las categorías dentro del atributo race son:\\n\", census[\"race\"].value_counts())"
   ]
  },
  {
   "cell_type": "code",
   "execution_count": 28,
   "id": "8ecfdfa8",
   "metadata": {},
   "outputs": [
    {
     "name": "stdout",
     "output_type": "stream",
     "text": [
      "Las categorías dentro del atributo sex son:\n",
      " sex\n",
      "Male      21790\n",
      "Female    10771\n",
      "Name: count, dtype: int64\n"
     ]
    }
   ],
   "source": [
    "print(\"Las categorías dentro del atributo sex son:\\n\", census[\"sex\"].value_counts())"
   ]
  },
  {
   "cell_type": "code",
   "execution_count": 29,
   "id": "6fccca06",
   "metadata": {},
   "outputs": [
    {
     "name": "stdout",
     "output_type": "stream",
     "text": [
      "Las categorías dentro del atributo native.country son:\n",
      " native.country\n",
      "United-States                 29170\n",
      "Mexico                          643\n",
      "?                               583\n",
      "Philippines                     198\n",
      "Germany                         137\n",
      "Canada                          121\n",
      "Puerto-Rico                     114\n",
      "El-Salvador                     106\n",
      "India                           100\n",
      "Cuba                             95\n",
      "England                          90\n",
      "Jamaica                          81\n",
      "South                            80\n",
      "China                            75\n",
      "Italy                            73\n",
      "Dominican-Republic               70\n",
      "Vietnam                          67\n",
      "Guatemala                        64\n",
      "Japan                            62\n",
      "Poland                           60\n",
      "Columbia                         59\n",
      "Taiwan                           51\n",
      "Haiti                            44\n",
      "Iran                             43\n",
      "Portugal                         37\n",
      "Nicaragua                        34\n",
      "Peru                             31\n",
      "Greece                           29\n",
      "France                           29\n",
      "Ecuador                          28\n",
      "Ireland                          24\n",
      "Hong                             20\n",
      "Trinadad&Tobago                  19\n",
      "Cambodia                         19\n",
      "Thailand                         18\n",
      "Laos                             18\n",
      "Yugoslavia                       16\n",
      "Outlying-US(Guam-USVI-etc)       14\n",
      "Hungary                          13\n",
      "Honduras                         13\n",
      "Scotland                         12\n",
      "Holand-Netherlands                1\n",
      "Name: count, dtype: int64\n"
     ]
    }
   ],
   "source": [
    "print(\"Las categorías dentro del atributo native.country son:\\n\", census[\"native.country\"].value_counts())"
   ]
  },
  {
   "cell_type": "code",
   "execution_count": 30,
   "id": "541540d2",
   "metadata": {},
   "outputs": [
    {
     "name": "stdout",
     "output_type": "stream",
     "text": [
      "Las categorías dentro del atributo income son:\n",
      " income\n",
      "<=50K    24720\n",
      ">50K      7841\n",
      "Name: count, dtype: int64\n"
     ]
    }
   ],
   "source": [
    "print(\"Las categorías dentro del atributo income son:\\n\", census[\"income\"].value_counts())"
   ]
  },
  {
   "cell_type": "markdown",
   "id": "f51c77e9",
   "metadata": {},
   "source": [
    "### Identificación de Parámetros Faltantes\n",
    "\n",
    "Los datos faltantes se encuentran en 3 atributos específicamente: ``workclass``, ``occupation`` y ``native.country``. Se establece como hipótesis los siguientes escenarios:\n",
    "- Las personas con ``workclass`` y/o ``occupation`` igual a **?** estan jubiladas.\n",
    "    - Se debe determinar si existe dentro de los datos la categoría \"jubilado\".\n",
    "    - Se debe determinar si hay personas que poseen una edad superior a 62 años, que es la edad jubilatoria mínima.\n",
    "- Las personas con ``workclass``y/o ``occupation`` igual a **?** estan desempleadas o realizan trabajos en el hogar (i.e. amas de casa).\n",
    "    - Se debe determinar si existe dentro de los datos la categoría \"desempleado\".\n",
    "    - Se debe determinar si hay personas que poseen horas semanales de trabajo (``hours.peer.week.``).\n",
    "    - Se debe determinar si la persona está casada y posee género femenino.\n",
    "\n",
    "> **Nota**: Obviamente se puede ser una persona de género masculino y llevar a cargo tareas del hogar, pero considerando que el censo es de 1994, se asume que es poco probable que así sea."
   ]
  }
 ],
 "metadata": {
  "kernelspec": {
   "display_name": "env",
   "language": "python",
   "name": "python3"
  },
  "language_info": {
   "codemirror_mode": {
    "name": "ipython",
    "version": 3
   },
   "file_extension": ".py",
   "mimetype": "text/x-python",
   "name": "python",
   "nbconvert_exporter": "python",
   "pygments_lexer": "ipython3",
   "version": "3.11.9"
  }
 },
 "nbformat": 4,
 "nbformat_minor": 5
}
